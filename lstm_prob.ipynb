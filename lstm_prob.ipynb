{
 "cells": [
  {
   "cell_type": "code",
   "execution_count": 1,
   "metadata": {},
   "outputs": [
    {
     "name": "stderr",
     "output_type": "stream",
     "text": [
      "Using TensorFlow backend.\n",
      "Building prefix dict from the default dictionary ...\n",
      "Loading model from cache /tmp/jieba.cache\n",
      "Loading model cost 0.645 seconds.\n",
      "Prefix dict has been built succesfully.\n"
     ]
    },
    {
     "name": "stdout",
     "output_type": "stream",
     "text": [
      "赣南脐橙更好吃 果肉饱满 口感酸甜\n",
      "可口水果 小和最或\n"
     ]
    }
   ],
   "source": [
    "# -*- coding: utf-8 -*-\n",
    "\"\"\"\n",
    "Created on Mon Nov 13 20:45:10 2017\n",
    "\n",
    "@author: merry jane\n",
    "\n",
    "调用训练好的lstm模型 预测句子中每个词语的概率和ppl\n",
    "2、输入句子，返回句子词语 概率 和ppl困惑度 概率值的几何平均取倒\n",
    "\"\"\"\n",
    "from keras.models import load_model\n",
    "import jieba\n",
    "import re\n",
    "import data_helper\n",
    "import numpy as np\n",
    "import jieba.posseg\n",
    "\n",
    "\n",
    "def get_words_prob(sentence):\n",
    "    '''\n",
    "    预测句子每个词条件概率，该句子的通顺性值=1/词语概率乘积\n",
    "    '''\n",
    "    \n",
    "    sentence=\"\".join([x.strip() for x in re.findall('(.*?)[|,|;|?|.|!|:|，|。|、|~|；|！|？|\"|“|”|】|【|《|》|<|>|&|%|$|(|)|（|）|^|#|@]', sentence+',')])\n",
    "    sen_words=jieba.lcut(sentence)\n",
    "    p = re.compile(r'\\d+')\n",
    "    sen_words=[word for word in   filter(lambda x:len(re.findall(p,x))==0 ,sen_words)] \n",
    "    word_prob={}\n",
    "    word_prob_list=[]\n",
    "    i=0\n",
    "    ok_w=[]\n",
    "    for w in sen_words:\n",
    "        if i >=len(sen_words):\n",
    "            break\n",
    "            \n",
    "        next_w=sen_words[i]\n",
    "        \n",
    "        input_words=[\"的\"]*(maxlen-i)+ok_w[-maxlen:]\n",
    "        x=np.zeros((1,maxlen,len(char_indices)))\n",
    "    \n",
    "        for t,char in enumerate(input_words):\n",
    "            try:\n",
    "                x[0,t,char_indices[char]]=1.\n",
    "            except:\n",
    "                continue\n",
    "\n",
    "        i+=1\n",
    "   \n",
    "   \n",
    "\n",
    "        preds=model.predict(x,verbose=0)[0]\n",
    "        try:\n",
    "            word_prob[next_w]=preds[char_indices[next_w]]\n",
    "        except:\n",
    "            word_prob[next_w]=0.0\n",
    "        word_prob_list.append( word_prob[next_w])\n",
    "        \n",
    "        ok_w.append(w)\n",
    "    \n",
    "    \n",
    "    return word_prob,{\"ppl\":(np.array(word_prob_list[1:]).prod())**(-1/len(word_prob_list))}\n",
    "\n",
    "def sample(preds,temperature=1.0):\n",
    "    preds=np.asarray(preds).astype(\"float64\")\n",
    "    scaled_preds=preds**(1/temperature)\n",
    "    preds=scaled_preds/np.sum(scaled_preds)\n",
    "    probas=np.random.multinomial(1,preds,1)\n",
    "    return np.argmax(probas)\n",
    "\n",
    "def get_next_words(sentence,ntimes=20):\n",
    "#    sentence='讲究简单，朴素无华，细腻光滑工艺外壳，光泽温和，质感醉厚，'\n",
    "    generated=\"\"\n",
    "    generated_list=[\"(\",\")\",\"/\",\"）\"]\n",
    "    sentence=\"\".join([x.strip() for x in re.findall('(.*?)[|,|;|?|.|!|:|，|。|、|~|；|！|？|\"|“|”|】|【|《|》|<|>|&|%|$|(|)|（|）|^|#|@]', sentence+',')])\n",
    "    sen_words=jieba.lcut(sentence)[-maxlen:]\n",
    "    p = re.compile(r'\\d+')\n",
    "    sen_words=[word for word in   filter(lambda x:len(re.findall(p,x))==0 ,sen_words)] \n",
    "\n",
    "    input_words=sen_words\n",
    "    x=np.zeros((1,maxlen,len(char_indices)))\n",
    "\n",
    "    current_w=sen_words[-1]\n",
    "    for w ,f in jieba.posseg.cut(current_w):\n",
    "        current_w_flag=f\n",
    "#        print (w,f)    \n",
    "    \n",
    "    \n",
    "    for i in range(ntimes):\n",
    "  \n",
    "\n",
    "        for t,char in enumerate(input_words):\n",
    "            try:\n",
    "                x[0,t,char_indices[char]]=1.\n",
    "            except:\n",
    "                continue\n",
    "        preds=model.predict(x,verbose=0)[0]\n",
    "        next_w=indices_char[sample(preds,0.8)]\n",
    "        \n",
    "        for w ,f in jieba.posseg.cut(next_w):\n",
    "            next_w_flag=f\n",
    "#            print (w,f)\n",
    "\n",
    "        if next_w not in generated_list and (current_w_flag!=\"f\" or next_w_flag!=\"f\") and (current_w_flag!=\"c\" or next_w_flag!=\"c\"):\n",
    "            generated_list.append(next_w)\n",
    "            generated+=next_w\n",
    "            input_words=input_words[1:]+[next_w]\n",
    "            \n",
    "            current_w=next_w\n",
    "            current_w_flag=next_w_flag\n",
    "        else:\n",
    "            pass\n",
    "    \n",
    "    return generated\n",
    "\n",
    "def check_structure():\n",
    "    \n",
    "    pass \n",
    "\n",
    "\n",
    "if __name__=='__main__':\n",
    "    maxlen=10\n",
    "    \n",
    "    model = load_model('./lstm_model_gen_word_epoch_20.h5')\n",
    "    _, char_indices, indices_char = data_helper.load_preprocess()\n",
    "#    res=get_words_prob('讲究简单，朴素无华，细腻光滑工艺外壳，光泽温和，质感醉厚，')\n",
    "#    print (res)\n",
    "    sentence=\"赣南脐橙更好吃 果肉饱满 口感酸甜\"\n",
    "    res=get_next_words(sentence,ntimes=40)\n",
    "    \n",
    "    print (sentence)\n",
    "    print (res)\n",
    "    \n",
    "    \n",
    "    \n",
    "    '''\n",
    "    返回结果：\n",
    "    ({'光泽': 4.7096591,\n",
    "  '光滑': 5.9352827,\n",
    "  '外壳': 2.7460401,\n",
    "  '工艺': 21.515692,\n",
    "  '朴素无华': 0.16896033,\n",
    "  '温和': 3.5096765,\n",
    "  '简单': 14.434443,\n",
    "  '细腻': 26.224731,\n",
    "  '讲究': 0.081697658,\n",
    "  '质感': 19.405516,\n",
    "  '醉厚': 0.0076282052},\n",
    "   2.1476565351778878)\n",
    "    '''\n"
   ]
  },
  {
   "cell_type": "code",
   "execution_count": 2,
   "metadata": {},
   "outputs": [
    {
     "name": "stdout",
     "output_type": "stream",
     "text": [
      "赣南脐橙更好吃 果肉饱满 口感酸甜\n",
      "可口水果 小也肉是因此作用食用了时和功效含量或\n"
     ]
    }
   ],
   "source": [
    "res=get_next_words(sentence,ntimes=40)\n",
    "print (sentence)\n",
    "print (res)\n"
   ]
  },
  {
   "cell_type": "code",
   "execution_count": 5,
   "metadata": {},
   "outputs": [
    {
     "name": "stdout",
     "output_type": "stream",
     "text": [
      "讲究简单朴素无华细腻光滑工艺外壳光泽温和质感醉厚\n",
      "['讲究', '简单', '朴素无华', '细腻', '光滑', '工艺', '外壳', '光泽', '温和', '质感', '醉厚']\n"
     ]
    }
   ],
   "source": [
    "print (sentence)\n",
    "print (sen_words)\n"
   ]
  },
  {
   "cell_type": "code",
   "execution_count": 6,
   "metadata": {
    "collapsed": true
   },
   "outputs": [],
   "source": [
    "input_words=sen_words\n",
    "x=np.zeros((1,maxlen,len(char_indices)))\n",
    "\n",
    "for t,char in enumerate(input_words):\n",
    "    try:\n",
    "        x[0,t,char_indices[char]]=1.\n",
    "    except:\n",
    "        continue"
   ]
  },
  {
   "cell_type": "code",
   "execution_count": 8,
   "metadata": {},
   "outputs": [
    {
     "name": "stdout",
     "output_type": "stream",
     "text": [
      "[[[ 0.  0.  0. ...,  0.  0.  0.]\n",
      "  [ 0.  0.  0. ...,  0.  0.  0.]\n",
      "  [ 0.  0.  0. ...,  0.  0.  0.]\n",
      "  ..., \n",
      "  [ 0.  0.  0. ...,  0.  0.  0.]\n",
      "  [ 0.  0.  0. ...,  0.  0.  0.]\n",
      "  [ 0.  0.  0. ...,  0.  0.  0.]]]\n",
      "醉厚\n",
      "6500\n"
     ]
    }
   ],
   "source": [
    "print (x)\n",
    "print (char)\n",
    "print (char_indices[char])\n",
    "\n"
   ]
  },
  {
   "cell_type": "code",
   "execution_count": 10,
   "metadata": {},
   "outputs": [
    {
     "name": "stdout",
     "output_type": "stream",
     "text": [
      "[  1.68687679e-04   1.31132481e-06   1.31139996e-06 ...,   6.43732492e-04\n",
      "   1.28586112e-06   1.30233661e-06]\n",
      "9000\n"
     ]
    }
   ],
   "source": [
    "preds=model.predict(x,verbose=0)[0]\n",
    "print (preds)\n",
    "print (len(preds))"
   ]
  },
  {
   "cell_type": "code",
   "execution_count": 15,
   "metadata": {
    "collapsed": true
   },
   "outputs": [],
   "source": [
    "def sample(preds,temperature=1.0):\n",
    "    preds=np.asarray(preds).astype(\"float64\")\n",
    "    scaled_preds=preds**(1/temperature)\n",
    "    preds=scaled_preds/np.sum(scaled_preds)\n",
    "    probas=np.random.multinomial(1,preds,1)\n",
    "    return np.argmax(probas)"
   ]
  },
  {
   "cell_type": "code",
   "execution_count": 16,
   "metadata": {},
   "outputs": [
    {
     "data": {
      "text/plain": [
       "6960"
      ]
     },
     "execution_count": 16,
     "metadata": {},
     "output_type": "execute_result"
    }
   ],
   "source": [
    "sample(preds)"
   ]
  },
  {
   "cell_type": "code",
   "execution_count": 17,
   "metadata": {},
   "outputs": [
    {
     "data": {
      "text/plain": [
       "'垂直'"
      ]
     },
     "execution_count": 17,
     "metadata": {},
     "output_type": "execute_result"
    }
   ],
   "source": [
    "indices_char[6960]"
   ]
  },
  {
   "cell_type": "code",
   "execution_count": 23,
   "metadata": {
    "collapsed": true
   },
   "outputs": [],
   "source": [
    "def get_next_words(sentence,ntimes=20):\n",
    "#    sentence='讲究简单，朴素无华，细腻光滑工艺外壳，光泽温和，质感醉厚，'\n",
    "    generated=\"\"\n",
    "    sentence=\"\".join([x.strip() for x in re.findall('(.*?)[|,|;|?|.|!|:|，|。|、|~|；|！|？|\"|“|”|】|【|《|》|<|>|&|%|$|(|)|（|）|^|#|@]', sentence+',')])\n",
    "    sen_words=jieba.lcut(sentence)\n",
    "    p = re.compile(r'\\d+')\n",
    "    sen_words=[word for word in   filter(lambda x:len(re.findall(p,x))==0 ,sen_words)] \n",
    "\n",
    "    input_words=sen_words\n",
    "    x=np.zeros((1,maxlen,len(char_indices)))\n",
    "\n",
    "\n",
    "    \n",
    "    for i in range(ntimes):\n",
    "        for t,char in enumerate(input_words):\n",
    "            try:\n",
    "                x[0,t,char_indices[char]]=1.\n",
    "            except:\n",
    "                continue\n",
    "        preds=model.predict(x,verbose=0)[0]\n",
    "        next_w=indices_char[sample(preds,0.8)]\n",
    "        generated+=next_w\n",
    "        input_words=input_words[1:]+[next_w]\n",
    "    \n",
    "    return generated"
   ]
  },
  {
   "cell_type": "code",
   "execution_count": 24,
   "metadata": {},
   "outputs": [
    {
     "data": {
      "text/plain": [
       "'神秘自然复古鞋帮的组合内存创意运动优势巧克力更的款式舒适百变采用的让孩子'"
      ]
     },
     "execution_count": 24,
     "metadata": {},
     "output_type": "execute_result"
    }
   ],
   "source": [
    "get_next_words(sentence,ntimes=20)"
   ]
  },
  {
   "cell_type": "code",
   "execution_count": 11,
   "metadata": {},
   "outputs": [
    {
     "name": "stdout",
     "output_type": "stream",
     "text": [
      "或 c\n",
      "但是 c\n",
      "因此 c\n",
      "可 v\n",
      "所以 c\n",
      "尤其 d\n"
     ]
    }
   ],
   "source": [
    "for w ,f in jieba.posseg.cut(\"或但是因此可所以尤其\"):\n",
    "    print (w,f)"
   ]
  },
  {
   "cell_type": "code",
   "execution_count": null,
   "metadata": {
    "collapsed": true
   },
   "outputs": [],
   "source": []
  }
 ],
 "metadata": {
  "kernelspec": {
   "display_name": "Python 3",
   "language": "python",
   "name": "python3"
  },
  "language_info": {
   "codemirror_mode": {
    "name": "ipython",
    "version": 3
   },
   "file_extension": ".py",
   "mimetype": "text/x-python",
   "name": "python",
   "nbconvert_exporter": "python",
   "pygments_lexer": "ipython3",
   "version": "3.6.3"
  }
 },
 "nbformat": 4,
 "nbformat_minor": 2
}
